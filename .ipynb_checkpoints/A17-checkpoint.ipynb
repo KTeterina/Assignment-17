{
 "cells": [
  {
   "cell_type": "markdown",
   "id": "64e0e5fa-ef76-4d1a-b9ea-46d69ccacb60",
   "metadata": {},
   "source": [
    "# Assignment 17"
   ]
  },
  {
   "cell_type": "code",
   "execution_count": 8,
   "id": "9baa94f2-3112-4375-808a-7234af898fd2",
   "metadata": {
    "collapsed": true,
    "jupyter": {
     "outputs_hidden": true
    },
    "tags": []
   },
   "outputs": [
    {
     "name": "stdout",
     "output_type": "stream",
     "text": [
      "Requirement already satisfied: ipython-sql in /opt/conda/lib/python3.10/site-packages (0.5.0)\n",
      "Requirement already satisfied: sqlalchemy>=2.0 in /opt/conda/lib/python3.10/site-packages (from ipython-sql) (2.0.7)\n",
      "Requirement already satisfied: ipython in /opt/conda/lib/python3.10/site-packages (from ipython-sql) (8.11.0)\n",
      "Requirement already satisfied: prettytable in /opt/conda/lib/python3.10/site-packages (from ipython-sql) (3.7.0)\n",
      "Requirement already satisfied: sqlparse in /opt/conda/lib/python3.10/site-packages (from ipython-sql) (0.4.4)\n",
      "Requirement already satisfied: ipython-genutils in /opt/conda/lib/python3.10/site-packages (from ipython-sql) (0.2.0)\n",
      "Requirement already satisfied: six in /opt/conda/lib/python3.10/site-packages (from ipython-sql) (1.16.0)\n",
      "Requirement already satisfied: typing-extensions>=4.2.0 in /opt/conda/lib/python3.10/site-packages (from sqlalchemy>=2.0->ipython-sql) (4.5.0)\n",
      "Requirement already satisfied: greenlet!=0.4.17 in /opt/conda/lib/python3.10/site-packages (from sqlalchemy>=2.0->ipython-sql) (2.0.2)\n",
      "Requirement already satisfied: jedi>=0.16 in /opt/conda/lib/python3.10/site-packages (from ipython->ipython-sql) (0.18.2)\n",
      "Requirement already satisfied: pickleshare in /opt/conda/lib/python3.10/site-packages (from ipython->ipython-sql) (0.7.5)\n",
      "Requirement already satisfied: traitlets>=5 in /opt/conda/lib/python3.10/site-packages (from ipython->ipython-sql) (5.9.0)\n",
      "Requirement already satisfied: matplotlib-inline in /opt/conda/lib/python3.10/site-packages (from ipython->ipython-sql) (0.1.6)\n",
      "Requirement already satisfied: backcall in /opt/conda/lib/python3.10/site-packages (from ipython->ipython-sql) (0.2.0)\n",
      "Requirement already satisfied: pexpect>4.3 in /opt/conda/lib/python3.10/site-packages (from ipython->ipython-sql) (4.8.0)\n",
      "Requirement already satisfied: pygments>=2.4.0 in /opt/conda/lib/python3.10/site-packages (from ipython->ipython-sql) (2.14.0)\n",
      "Requirement already satisfied: decorator in /opt/conda/lib/python3.10/site-packages (from ipython->ipython-sql) (5.1.1)\n",
      "Requirement already satisfied: prompt-toolkit!=3.0.37,<3.1.0,>=3.0.30 in /opt/conda/lib/python3.10/site-packages (from ipython->ipython-sql) (3.0.38)\n",
      "Requirement already satisfied: stack-data in /opt/conda/lib/python3.10/site-packages (from ipython->ipython-sql) (0.6.2)\n",
      "Requirement already satisfied: wcwidth in /opt/conda/lib/python3.10/site-packages (from prettytable->ipython-sql) (0.2.6)\n",
      "Requirement already satisfied: parso<0.9.0,>=0.8.0 in /opt/conda/lib/python3.10/site-packages (from jedi>=0.16->ipython->ipython-sql) (0.8.3)\n",
      "Requirement already satisfied: ptyprocess>=0.5 in /opt/conda/lib/python3.10/site-packages (from pexpect>4.3->ipython->ipython-sql) (0.7.0)\n",
      "Requirement already satisfied: asttokens>=2.1.0 in /opt/conda/lib/python3.10/site-packages (from stack-data->ipython->ipython-sql) (2.2.1)\n",
      "Requirement already satisfied: executing>=1.2.0 in /opt/conda/lib/python3.10/site-packages (from stack-data->ipython->ipython-sql) (1.2.0)\n",
      "Requirement already satisfied: pure-eval in /opt/conda/lib/python3.10/site-packages (from stack-data->ipython->ipython-sql) (0.2.2)\n",
      "\u001b[33mWARNING: There was an error checking the latest version of pip.\u001b[0m\u001b[33m\n",
      "\u001b[0mThe sql extension is already loaded. To reload it, use:\n",
      "  %reload_ext sql\n",
      "POSTGRESQL_USER=reader\n",
      "POSTGRESQL_PASSWORD=Miba2021\n"
     ]
    }
   ],
   "source": [
    "!pip install ipython-sql\n",
    "\n",
    "%load_ext sql\n",
    "\n",
    "!env | grep POST\n",
    "\n",
    "import os\n",
    "USER = os.environ['POSTGRESQL_USER']\n",
    "PASSWORD = os.environ['POSTGRESQL_PASSWORD']\n",
    "POSTGRESQL_HOST = '10.129.0.25'\n",
    "DBASE_NAME = 'demo'\n",
    "\n",
    "CONNECT_DATA = 'postgresql://{}:{}@{}/{}'.format(\n",
    "    USER,\n",
    "    PASSWORD,\n",
    "    POSTGRESQL_HOST,\n",
    "    DBASE_NAME\n",
    ")"
   ]
  },
  {
   "cell_type": "markdown",
   "id": "52df88ec-c131-4be6-a4a6-d2bb4f1997ba",
   "metadata": {},
   "source": [
    "1) 1. For the given ticket_no 0005432312164, find: who and where flew."
   ]
  },
  {
   "cell_type": "code",
   "execution_count": 16,
   "id": "63648a93-7337-4002-bb6e-c1107c2cc8af",
   "metadata": {
    "tags": []
   },
   "outputs": [
    {
     "name": "stdout",
     "output_type": "stream",
     "text": [
      "3 rows affected.\n"
     ]
    },
    {
     "data": {
      "text/html": [
       "<table>\n",
       "    <thead>\n",
       "        <tr>\n",
       "            <th>passenger_name</th>\n",
       "            <th>city</th>\n",
       "        </tr>\n",
       "    </thead>\n",
       "    <tbody>\n",
       "        <tr>\n",
       "            <td>ALEKSEY GERASIMOV</td>\n",
       "            <td>Anapa</td>\n",
       "        </tr>\n",
       "        <tr>\n",
       "            <td>ALEKSEY GERASIMOV</td>\n",
       "            <td>Belgorod</td>\n",
       "        </tr>\n",
       "        <tr>\n",
       "            <td>ALEKSEY GERASIMOV</td>\n",
       "            <td>Moscow</td>\n",
       "        </tr>\n",
       "    </tbody>\n",
       "</table>"
      ],
      "text/plain": [
       "[('ALEKSEY GERASIMOV', 'Anapa'),\n",
       " ('ALEKSEY GERASIMOV', 'Belgorod'),\n",
       " ('ALEKSEY GERASIMOV', 'Moscow')]"
      ]
     },
     "execution_count": 16,
     "metadata": {},
     "output_type": "execute_result"
    }
   ],
   "source": [
    "%%sql $CONNECT_DATA\n",
    "Select DISTINCT passenger_name, city\n",
    "From (\n",
    "Select *\n",
    "From tickets t, ticket_flights tf, flights f, airports a\n",
    "Where t.ticket_no = '0005432312164'\n",
    "And t.ticket_no = tf.ticket_no\n",
    "And tf.flight_id = f.flight_id\n",
    "And f.arrival_airport = a.airport_code) as al_1"
   ]
  },
  {
   "cell_type": "code",
   "execution_count": 11,
   "id": "21e06858-a1f1-4554-a042-f95a5f3a3830",
   "metadata": {
    "tags": []
   },
   "outputs": [
    {
     "name": "stdout",
     "output_type": "stream",
     "text": [
      "3 rows affected.\n"
     ]
    },
    {
     "data": {
      "text/html": [
       "<table>\n",
       "    <thead>\n",
       "        <tr>\n",
       "            <th>passenger_name</th>\n",
       "            <th>city</th>\n",
       "        </tr>\n",
       "    </thead>\n",
       "    <tbody>\n",
       "        <tr>\n",
       "            <td>ALEKSEY GERASIMOV</td>\n",
       "            <td>Anapa</td>\n",
       "        </tr>\n",
       "        <tr>\n",
       "            <td>ALEKSEY GERASIMOV</td>\n",
       "            <td>Belgorod</td>\n",
       "        </tr>\n",
       "        <tr>\n",
       "            <td>ALEKSEY GERASIMOV</td>\n",
       "            <td>Moscow</td>\n",
       "        </tr>\n",
       "    </tbody>\n",
       "</table>"
      ],
      "text/plain": [
       "[('ALEKSEY GERASIMOV', 'Anapa'),\n",
       " ('ALEKSEY GERASIMOV', 'Belgorod'),\n",
       " ('ALEKSEY GERASIMOV', 'Moscow')]"
      ]
     },
     "execution_count": 11,
     "metadata": {},
     "output_type": "execute_result"
    }
   ],
   "source": [
    "%%sql $CONNECT_DATA\n",
    "Select DISTINCT passenger_name, city\n",
    "From tickets t, ticket_flights tf, flights f, airports a\n",
    "Where t.ticket_no = '0005432312164'\n",
    "And t.ticket_no = tf.ticket_no\n",
    "And tf.flight_id = f.flight_id\n",
    "And f.arrival_airport = a.airport_code"
   ]
  },
  {
   "cell_type": "code",
   "execution_count": 9,
   "id": "a2a1c64f-0812-4cb3-9d29-077968aae456",
   "metadata": {},
   "outputs": [
    {
     "name": "stdout",
     "output_type": "stream",
     "text": [
      "3 rows affected.\n"
     ]
    },
    {
     "data": {
      "text/html": [
       "<table>\n",
       "    <thead>\n",
       "        <tr>\n",
       "            <th>passenger_name</th>\n",
       "            <th>city</th>\n",
       "        </tr>\n",
       "    </thead>\n",
       "    <tbody>\n",
       "        <tr>\n",
       "            <td>ALEKSEY GERASIMOV</td>\n",
       "            <td>Anapa</td>\n",
       "        </tr>\n",
       "        <tr>\n",
       "            <td>ALEKSEY GERASIMOV</td>\n",
       "            <td>Belgorod</td>\n",
       "        </tr>\n",
       "        <tr>\n",
       "            <td>ALEKSEY GERASIMOV</td>\n",
       "            <td>Moscow</td>\n",
       "        </tr>\n",
       "    </tbody>\n",
       "</table>"
      ],
      "text/plain": [
       "[('ALEKSEY GERASIMOV', 'Anapa'),\n",
       " ('ALEKSEY GERASIMOV', 'Belgorod'),\n",
       " ('ALEKSEY GERASIMOV', 'Moscow')]"
      ]
     },
     "execution_count": 9,
     "metadata": {},
     "output_type": "execute_result"
    }
   ],
   "source": [
    "%%sql $CONNECT_DATA\n",
    "Select DISTINCT passenger_name, city\n",
    "From tickets\n",
    "INNER JOIN ticket_flights ON tickets.ticket_no = ticket_flights.ticket_no\n",
    "INNER JOIN flights ON ticket_flights.flight_id = flights.flight_id\n",
    "INNER JOIN airports ON flights.arrival_airport = airports.airport_code\n",
    "Where tickets.ticket_no = '0005432312164'"
   ]
  },
  {
   "cell_type": "markdown",
   "id": "86253d73-6918-43a6-9a7b-7f790b0c3375",
   "metadata": {},
   "source": [
    "2. Extend that solution about Mrs. 'ELLA DMITRIEVA' - from where and to where she flew."
   ]
  },
  {
   "cell_type": "code",
   "execution_count": 25,
   "id": "e3770242-3221-4d28-bbcf-650477ec56a5",
   "metadata": {
    "tags": []
   },
   "outputs": [
    {
     "name": "stdout",
     "output_type": "stream",
     "text": [
      "7 rows affected.\n"
     ]
    },
    {
     "data": {
      "text/html": [
       "<table>\n",
       "    <thead>\n",
       "        <tr>\n",
       "            <th>departure_city</th>\n",
       "            <th>departure_airport</th>\n",
       "            <th>arrival_city</th>\n",
       "            <th>arrival_airport</th>\n",
       "        </tr>\n",
       "    </thead>\n",
       "    <tbody>\n",
       "        <tr>\n",
       "            <td>Moscow</td>\n",
       "            <td>SVO</td>\n",
       "            <td>Yekaterinburg</td>\n",
       "            <td>SVX</td>\n",
       "        </tr>\n",
       "        <tr>\n",
       "            <td>Yekaterinburg</td>\n",
       "            <td>SVX</td>\n",
       "            <td>Moscow</td>\n",
       "            <td>SVO</td>\n",
       "        </tr>\n",
       "        <tr>\n",
       "            <td>Yekaterinburg</td>\n",
       "            <td>SVX</td>\n",
       "            <td>Magnetiogorsk</td>\n",
       "            <td>MQF</td>\n",
       "        </tr>\n",
       "        <tr>\n",
       "            <td>Magnetiogorsk</td>\n",
       "            <td>MQF</td>\n",
       "            <td>Yekaterinburg</td>\n",
       "            <td>SVX</td>\n",
       "        </tr>\n",
       "        <tr>\n",
       "            <td>Moscow</td>\n",
       "            <td>DME</td>\n",
       "            <td>Yuzhno-Sakhalinsk</td>\n",
       "            <td>UUS</td>\n",
       "        </tr>\n",
       "        <tr>\n",
       "            <td>Moscow</td>\n",
       "            <td>DME</td>\n",
       "            <td>Khanty-Mansiysk</td>\n",
       "            <td>HMA</td>\n",
       "        </tr>\n",
       "        <tr>\n",
       "            <td>Khanty-Mansiysk</td>\n",
       "            <td>HMA</td>\n",
       "            <td>Moscow</td>\n",
       "            <td>DME</td>\n",
       "        </tr>\n",
       "    </tbody>\n",
       "</table>"
      ],
      "text/plain": [
       "[('Moscow', 'SVO', 'Yekaterinburg', 'SVX'),\n",
       " ('Yekaterinburg', 'SVX', 'Moscow', 'SVO'),\n",
       " ('Yekaterinburg', 'SVX', 'Magnetiogorsk', 'MQF'),\n",
       " ('Magnetiogorsk', 'MQF', 'Yekaterinburg', 'SVX'),\n",
       " ('Moscow', 'DME', 'Yuzhno-Sakhalinsk', 'UUS'),\n",
       " ('Moscow', 'DME', 'Khanty-Mansiysk', 'HMA'),\n",
       " ('Khanty-Mansiysk', 'HMA', 'Moscow', 'DME')]"
      ]
     },
     "execution_count": 25,
     "metadata": {},
     "output_type": "execute_result"
    }
   ],
   "source": [
    "%%sql $CONNECT_DATA\n",
    "SELECT air_dep.city as departure_city, departure_airport, air_arr.city as arrival_city, arrival_airport\n",
    "FROM Flights\n",
    "JOIN Ticket_flights USING (flight_id)\n",
    "JOIN Tickets USING (ticket_no)\n",
    "JOIN Airports air_dep ON Flights.departure_airport = air_dep.airport_code\n",
    "JOIN Airports air_arr ON Flights.arrival_airport = air_arr.airport_code\n",
    "WHERE passenger_name = 'ELLA DMITRIEVA'"
   ]
  },
  {
   "cell_type": "markdown",
   "id": "906345f4-5169-475e-a33f-36b91feb2864",
   "metadata": {},
   "source": [
    "3. Output a grid: Aircraft model/Total number of seats."
   ]
  },
  {
   "cell_type": "code",
   "execution_count": 31,
   "id": "1918852e-000e-4b26-be2a-ad022e3d1b20",
   "metadata": {
    "tags": []
   },
   "outputs": [
    {
     "name": "stdout",
     "output_type": "stream",
     "text": [
      "9 rows affected.\n"
     ]
    },
    {
     "data": {
      "text/html": [
       "<table>\n",
       "    <thead>\n",
       "        <tr>\n",
       "            <th>model</th>\n",
       "            <th>count</th>\n",
       "        </tr>\n",
       "    </thead>\n",
       "    <tbody>\n",
       "        <tr>\n",
       "            <td>Boeing 777-300</td>\n",
       "            <td>402</td>\n",
       "        </tr>\n",
       "        <tr>\n",
       "            <td>Boeing 767-300</td>\n",
       "            <td>222</td>\n",
       "        </tr>\n",
       "        <tr>\n",
       "            <td>Airbus A321-200</td>\n",
       "            <td>170</td>\n",
       "        </tr>\n",
       "        <tr>\n",
       "            <td>Airbus A320-200</td>\n",
       "            <td>140</td>\n",
       "        </tr>\n",
       "        <tr>\n",
       "            <td>Boeing 737-300</td>\n",
       "            <td>130</td>\n",
       "        </tr>\n",
       "        <tr>\n",
       "            <td>Airbus A319-100</td>\n",
       "            <td>116</td>\n",
       "        </tr>\n",
       "        <tr>\n",
       "            <td>Sukhoi Superjet-100</td>\n",
       "            <td>97</td>\n",
       "        </tr>\n",
       "        <tr>\n",
       "            <td>Bombardier CRJ-200</td>\n",
       "            <td>50</td>\n",
       "        </tr>\n",
       "        <tr>\n",
       "            <td>Cessna 208 Caravan</td>\n",
       "            <td>12</td>\n",
       "        </tr>\n",
       "    </tbody>\n",
       "</table>"
      ],
      "text/plain": [
       "[('Boeing 777-300', 402),\n",
       " ('Boeing 767-300', 222),\n",
       " ('Airbus A321-200', 170),\n",
       " ('Airbus A320-200', 140),\n",
       " ('Boeing 737-300', 130),\n",
       " ('Airbus A319-100', 116),\n",
       " ('Sukhoi Superjet-100', 97),\n",
       " ('Bombardier CRJ-200', 50),\n",
       " ('Cessna 208 Caravan', 12)]"
      ]
     },
     "execution_count": 31,
     "metadata": {},
     "output_type": "execute_result"
    }
   ],
   "source": [
    "%%sql $CONNECT_DATA\n",
    "Select model, COUNT(seat_no)\n",
    "From Seats\n",
    "Join Aircrafts Using (aircraft_code)\n",
    "Group by model\n",
    "Order by COUNT(seat_no) DESC"
   ]
  }
 ],
 "metadata": {
  "kernelspec": {
   "display_name": "Python 3 (ipykernel)",
   "language": "python",
   "name": "python3"
  },
  "language_info": {
   "codemirror_mode": {
    "name": "ipython",
    "version": 3
   },
   "file_extension": ".py",
   "mimetype": "text/x-python",
   "name": "python",
   "nbconvert_exporter": "python",
   "pygments_lexer": "ipython3",
   "version": "3.10.9"
  }
 },
 "nbformat": 4,
 "nbformat_minor": 5
}
